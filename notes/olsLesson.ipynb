{
 "cells": [
  {
   "cell_type": "markdown",
   "metadata": {},
   "source": [
    "# todo\n",
    "* investigate binned income column and Geography"
   ]
  },
  {
   "cell_type": "markdown",
   "metadata": {},
   "source": [
    "# Objectives\n",
    "YWBAT\n",
    "* create an ols model in sklearn and statsmodels\n",
    "* perform cross-validation in sklearn on a dataset\n",
    "* choose features based on AIC, BIC or VIF scores \n",
    "\n",
    "\n",
    "# Outline\n",
    "* load in data\n",
    "* choose features for modeling\n",
    "* create model in statsmodels\n",
    "    * analyze model in statsmodels to make sure it meets requirements\n",
    "* create model in sklearn\n",
    "* cross validate model "
   ]
  },
  {
   "cell_type": "markdown",
   "metadata": {},
   "source": [
    "# The goal is to build a good experimental flow"
   ]
  },
  {
   "cell_type": "markdown",
   "metadata": {},
   "source": [
    "# Methodology I Use\n",
    "* OSEMIN + My Own Stuff\n",
    "\n",
    "* Step 1: Develop Functions that will allow you to experiment with ease\n",
    "    * Create a function that builds a model given a target and features \n",
    "    * Create a function that will test Multicollinearity of features in a feature space\n",
    "    * Create a function that will validate the assumptions of OLS\n",
    "* Step 2: Begin EDA and Feature Selection/Engineering/Transforming\n",
    "* Step 3: Experiment with various feature spaces\n",
    "* Step 4: Land on a good model and cross-validate\n",
    "* Step 5: Interpret your final model\n",
    "    * What does it mean in regards to business? \n",
    "    * What does it mean in regards to the math/statistics of the data? \n",
    "    * Is the model good? Does it make sense? Why or why not? \n",
    "    * What data would you like in the future? "
   ]
  },
  {
   "cell_type": "code",
   "execution_count": null,
   "metadata": {},
   "outputs": [],
   "source": [
    "import warnings\n",
    "warnings.filterwarnings('ignore')\n",
    "\n",
    "import numpy as np \n",
    "import pandas as pd\n",
    "\n",
    "import scipy.stats as scs \n",
    "import statsmodels.api as sm\n",
    "\n",
    "\n",
    "from sklearn.linear_model import LinearRegression, Ridge, Lasso \n",
    "from sklearn.model_selection import train_test_split, cross_val_score\n",
    "from sklearn.model_selection import KFold\n",
    "\n",
    "import matplotlib.pyplot as plt\n",
    "import seaborn as sns\n",
    "import plotly.express as px"
   ]
  },
  {
   "cell_type": "code",
   "execution_count": null,
   "metadata": {},
   "outputs": [],
   "source": [
    "# target variable = avgDeathsPerYear\n",
    "df = pd.read_csv(\"../data/OLSChallenge.csv\", encoding = \"ISO-8859-1\")\n",
    "df.head()"
   ]
  },
  {
   "cell_type": "markdown",
   "metadata": {},
   "source": [
    "# Build a Model"
   ]
  },
  {
   "cell_type": "code",
   "execution_count": null,
   "metadata": {},
   "outputs": [],
   "source": [
    "from statsFunctions import check_model"
   ]
  },
  {
   "cell_type": "code",
   "execution_count": null,
   "metadata": {},
   "outputs": [],
   "source": [
    "target = 'avgDeathsPerYear'\n",
    "features_to_use = ['incidenceRate', 'medIncome', 'AvgHouseholdSize']"
   ]
  },
  {
   "cell_type": "code",
   "execution_count": null,
   "metadata": {},
   "outputs": [],
   "source": [
    "ols = check_model(df, features_to_use=features_to_use, target_col=target, show_summary=True)"
   ]
  },
  {
   "cell_type": "markdown",
   "metadata": {},
   "source": [
    "# Now we start cleaning data and EDA "
   ]
  },
  {
   "cell_type": "markdown",
   "metadata": {},
   "source": [
    "# What did we learn? \n",
    "* skedasis (greek) for scattering\n",
    "* new test for homoskeda...\n",
    "* workflow of using lots of functions within one larger function\n",
    "* what OSEMN means\n",
    "* How much easier things get when you build functions (if you build them well)\n",
    "* it can be really helpful to start off with a model that works and build functions to build more models later on"
   ]
  },
  {
   "cell_type": "markdown",
   "metadata": {},
   "source": [
    "# Find top 10 correlated features with target"
   ]
  },
  {
   "cell_type": "code",
   "execution_count": null,
   "metadata": {},
   "outputs": [],
   "source": [
    "correlation_array = []\n",
    "failed_cols = []\n",
    "for col in df.drop(columns=[target]).columns:\n",
    "    try:\n",
    "        correlation = abs(np.corrcoef(df[col], df[target])[0][1])\n",
    "        if correlation == correlation:\n",
    "            correlation_array.append((col, correlation))\n",
    "        else:\n",
    "            failed_cols.append(col)\n",
    "    except:\n",
    "        failed_cols.append(col)\n",
    "failed_cols"
   ]
  },
  {
   "cell_type": "code",
   "execution_count": null,
   "metadata": {},
   "outputs": [],
   "source": [
    "correlation_array = sorted(correlation_array, key=lambda x: x[1], reverse=True)\n",
    "correlation_array"
   ]
  },
  {
   "cell_type": "code",
   "execution_count": null,
   "metadata": {},
   "outputs": [],
   "source": [
    "top_10_correlated = [t[0] for t in correlation_array[:10]]\n",
    "top_10_correlated"
   ]
  },
  {
   "cell_type": "code",
   "execution_count": null,
   "metadata": {},
   "outputs": [],
   "source": [
    "check_model(df, features_to_use=top_10_correlated, target_col=target, show_summary=True)"
   ]
  },
  {
   "cell_type": "markdown",
   "metadata": {},
   "source": [
    "# Select the 3 top features that are correlated with the target\n",
    "* plot a scatterplot of each feature with the target\n",
    "* measure their VIF scores"
   ]
  }
 ],
 "metadata": {
  "kernelspec": {
   "display_name": "flatiron-env",
   "language": "python",
   "name": "flatiron-env"
  },
  "language_info": {
   "codemirror_mode": {
    "name": "ipython",
    "version": 3
   },
   "file_extension": ".py",
   "mimetype": "text/x-python",
   "name": "python",
   "nbconvert_exporter": "python",
   "pygments_lexer": "ipython3",
   "version": "3.6.9"
  }
 },
 "nbformat": 4,
 "nbformat_minor": 2
}
